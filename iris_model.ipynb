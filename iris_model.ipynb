{
 "cells": [
  {
   "cell_type": "markdown",
   "metadata": {},
   "source": [
    "# Basic Neural Network using iris dataset - csatrio"
   ]
  },
  {
   "cell_type": "markdown",
   "metadata": {},
   "source": [
    "### Parameter setting"
   ]
  },
  {
   "cell_type": "code",
   "execution_count": 1,
   "metadata": {},
   "outputs": [],
   "source": [
    "import os\n",
    "model_name = 'iris_model'\n",
    "output_directory = f'{model_name}_assets'\n",
    "if not os.path.exists(output_directory):\n",
    "    os.mkdir(output_directory)\n",
    "o = lambda x : os.path.join(os.getcwd(), output_directory, x)\n",
    "visualization_name = o(f'{model_name}_torchviz')\n",
    "visualization_format = 'png'\n",
    "output_model_name = o(f'{model_name}.pt')"
   ]
  },
  {
   "cell_type": "markdown",
   "metadata": {},
   "source": [
    "### Create model class that inherits nn.module"
   ]
  },
  {
   "cell_type": "code",
   "execution_count": 2,
   "metadata": {},
   "outputs": [],
   "source": [
    "import torch\n",
    "import torch.nn as nn\n",
    "import torch.nn.functional as F\n",
    "\n",
    "class Model(nn.Module):\n",
    "    # in_features = number of columns in the input tensor (how many features are there in the input tensor)\n",
    "    # out_features = number of columns in the output tensor (how many distinct classes are there)\n",
    "    # h1 = number of neurons in the first hidden layer\n",
    "    # h2 = number of neurons in the second hidden layer\n",
    "    def __init__(self, in_features=4, out_features=3, h1=8, h2=9):\n",
    "        super(Model, self).__init__() # call the parent class constructor\n",
    "        self.fc1 = nn.Linear(in_features, h1) # create the first fully connected hidden layer\n",
    "        self.fc2 = nn.Linear(h1, h2) # create the second fully connected hidden layer\n",
    "        self.out = nn.Linear(h2, out_features) # create the output layer\n",
    "\n",
    "    # forward is the method that is called when you pass data to the model\n",
    "    # relu (rectified linear unit) is the activation function used in the hidden layers\n",
    "    # in relu, values less than zero are replaced by zero, while value greater than zero remain the same\n",
    "    # the forward method will move data through the model and return the output\n",
    "    def forward(self, x):\n",
    "        x = F.relu(self.fc1(x)) # move data through the first hidden layer and apply the activation function\n",
    "        x = F.relu(self.fc2(x)) # move data through the second hidden layer and apply the activation function\n",
    "        x = self.out(x) # move data through the output layer\n",
    "        return x"
   ]
  },
  {
   "cell_type": "code",
   "execution_count": 3,
   "metadata": {},
   "outputs": [
    {
     "data": {
      "text/plain": [
       "<bound method Module.parameters of Model(\n",
       "  (fc1): Linear(in_features=4, out_features=8, bias=True)\n",
       "  (fc2): Linear(in_features=8, out_features=9, bias=True)\n",
       "  (out): Linear(in_features=9, out_features=3, bias=True)\n",
       ")>"
      ]
     },
     "execution_count": 3,
     "metadata": {},
     "output_type": "execute_result"
    }
   ],
   "source": [
    "torch.manual_seed(32) # set the random seed for reproducibility\n",
    "model = Model() # create an instance of the model\n",
    "model.parameters # print the model parameters"
   ]
  },
  {
   "cell_type": "code",
   "execution_count": 4,
   "metadata": {},
   "outputs": [],
   "source": [
    "import pandas as pd\n",
    "import matplotlib.pyplot as plt\n",
    "%matplotlib inline"
   ]
  },
  {
   "cell_type": "code",
   "execution_count": 5,
   "metadata": {},
   "outputs": [
    {
     "data": {
      "text/html": [
       "<div>\n",
       "<style scoped>\n",
       "    .dataframe tbody tr th:only-of-type {\n",
       "        vertical-align: middle;\n",
       "    }\n",
       "\n",
       "    .dataframe tbody tr th {\n",
       "        vertical-align: top;\n",
       "    }\n",
       "\n",
       "    .dataframe thead th {\n",
       "        text-align: right;\n",
       "    }\n",
       "</style>\n",
       "<table border=\"1\" class=\"dataframe\">\n",
       "  <thead>\n",
       "    <tr style=\"text-align: right;\">\n",
       "      <th></th>\n",
       "      <th>sepal_length</th>\n",
       "      <th>sepal_width</th>\n",
       "      <th>petal_length</th>\n",
       "      <th>petal_width</th>\n",
       "      <th>species</th>\n",
       "    </tr>\n",
       "  </thead>\n",
       "  <tbody>\n",
       "    <tr>\n",
       "      <th>0</th>\n",
       "      <td>5.1</td>\n",
       "      <td>3.5</td>\n",
       "      <td>1.4</td>\n",
       "      <td>0.2</td>\n",
       "      <td>setosa</td>\n",
       "    </tr>\n",
       "    <tr>\n",
       "      <th>1</th>\n",
       "      <td>4.9</td>\n",
       "      <td>3.0</td>\n",
       "      <td>1.4</td>\n",
       "      <td>0.2</td>\n",
       "      <td>setosa</td>\n",
       "    </tr>\n",
       "    <tr>\n",
       "      <th>2</th>\n",
       "      <td>4.7</td>\n",
       "      <td>3.2</td>\n",
       "      <td>1.3</td>\n",
       "      <td>0.2</td>\n",
       "      <td>setosa</td>\n",
       "    </tr>\n",
       "    <tr>\n",
       "      <th>3</th>\n",
       "      <td>4.6</td>\n",
       "      <td>3.1</td>\n",
       "      <td>1.5</td>\n",
       "      <td>0.2</td>\n",
       "      <td>setosa</td>\n",
       "    </tr>\n",
       "    <tr>\n",
       "      <th>4</th>\n",
       "      <td>5.0</td>\n",
       "      <td>3.6</td>\n",
       "      <td>1.4</td>\n",
       "      <td>0.2</td>\n",
       "      <td>setosa</td>\n",
       "    </tr>\n",
       "    <tr>\n",
       "      <th>...</th>\n",
       "      <td>...</td>\n",
       "      <td>...</td>\n",
       "      <td>...</td>\n",
       "      <td>...</td>\n",
       "      <td>...</td>\n",
       "    </tr>\n",
       "    <tr>\n",
       "      <th>145</th>\n",
       "      <td>6.7</td>\n",
       "      <td>3.0</td>\n",
       "      <td>5.2</td>\n",
       "      <td>2.3</td>\n",
       "      <td>virginica</td>\n",
       "    </tr>\n",
       "    <tr>\n",
       "      <th>146</th>\n",
       "      <td>6.3</td>\n",
       "      <td>2.5</td>\n",
       "      <td>5.0</td>\n",
       "      <td>1.9</td>\n",
       "      <td>virginica</td>\n",
       "    </tr>\n",
       "    <tr>\n",
       "      <th>147</th>\n",
       "      <td>6.5</td>\n",
       "      <td>3.0</td>\n",
       "      <td>5.2</td>\n",
       "      <td>2.0</td>\n",
       "      <td>virginica</td>\n",
       "    </tr>\n",
       "    <tr>\n",
       "      <th>148</th>\n",
       "      <td>6.2</td>\n",
       "      <td>3.4</td>\n",
       "      <td>5.4</td>\n",
       "      <td>2.3</td>\n",
       "      <td>virginica</td>\n",
       "    </tr>\n",
       "    <tr>\n",
       "      <th>149</th>\n",
       "      <td>5.9</td>\n",
       "      <td>3.0</td>\n",
       "      <td>5.1</td>\n",
       "      <td>1.8</td>\n",
       "      <td>virginica</td>\n",
       "    </tr>\n",
       "  </tbody>\n",
       "</table>\n",
       "<p>150 rows × 5 columns</p>\n",
       "</div>"
      ],
      "text/plain": [
       "     sepal_length  sepal_width  petal_length  petal_width    species\n",
       "0             5.1          3.5           1.4          0.2     setosa\n",
       "1             4.9          3.0           1.4          0.2     setosa\n",
       "2             4.7          3.2           1.3          0.2     setosa\n",
       "3             4.6          3.1           1.5          0.2     setosa\n",
       "4             5.0          3.6           1.4          0.2     setosa\n",
       "..            ...          ...           ...          ...        ...\n",
       "145           6.7          3.0           5.2          2.3  virginica\n",
       "146           6.3          2.5           5.0          1.9  virginica\n",
       "147           6.5          3.0           5.2          2.0  virginica\n",
       "148           6.2          3.4           5.4          2.3  virginica\n",
       "149           5.9          3.0           5.1          1.8  virginica\n",
       "\n",
       "[150 rows x 5 columns]"
      ]
     },
     "execution_count": 5,
     "metadata": {},
     "output_type": "execute_result"
    }
   ],
   "source": [
    "url = 'https://gist.githubusercontent.com/curran/a08a1080b88344b0c8a7/raw/0e7a9b0a5d22642a06d3d5b9bcbad9890c8ee534/iris.csv'\n",
    "my_df = pd.read_csv(url)\n",
    "my_df"
   ]
  },
  {
   "cell_type": "code",
   "execution_count": 6,
   "metadata": {},
   "outputs": [
    {
     "data": {
      "text/plain": [
       "array(['setosa', 'versicolor', 'virginica'], dtype=object)"
      ]
     },
     "execution_count": 6,
     "metadata": {},
     "output_type": "execute_result"
    }
   ],
   "source": [
    "unique_species = my_df['species'].unique() # check for unique species values in the dataset\n",
    "unique_species"
   ]
  },
  {
   "cell_type": "markdown",
   "metadata": {},
   "source": [
    "### Function to change label into number for improving training efficiency"
   ]
  },
  {
   "cell_type": "code",
   "execution_count": 7,
   "metadata": {},
   "outputs": [],
   "source": [
    "# It's basically a poor man's encoder that maps the species to a number\n",
    "mapping = {}\n",
    "for i in range(len(unique_species)):\n",
    "    mapping[unique_species[i]] = i\n",
    "\n",
    "def label_to_number(input):\n",
    "    input_type = type(input)\n",
    "    # if already a number, leave it unchanged\n",
    "    if input_type == int or input_type == float or input_type == complex or input_type == torch.Tensor:\n",
    "        return input\n",
    "    else: # if a string, convert to number\n",
    "        return mapping[input]\n"
   ]
  },
  {
   "cell_type": "code",
   "execution_count": 8,
   "metadata": {},
   "outputs": [
    {
     "data": {
      "text/html": [
       "<div>\n",
       "<style scoped>\n",
       "    .dataframe tbody tr th:only-of-type {\n",
       "        vertical-align: middle;\n",
       "    }\n",
       "\n",
       "    .dataframe tbody tr th {\n",
       "        vertical-align: top;\n",
       "    }\n",
       "\n",
       "    .dataframe thead th {\n",
       "        text-align: right;\n",
       "    }\n",
       "</style>\n",
       "<table border=\"1\" class=\"dataframe\">\n",
       "  <thead>\n",
       "    <tr style=\"text-align: right;\">\n",
       "      <th></th>\n",
       "      <th>sepal_length</th>\n",
       "      <th>sepal_width</th>\n",
       "      <th>petal_length</th>\n",
       "      <th>petal_width</th>\n",
       "      <th>species</th>\n",
       "    </tr>\n",
       "  </thead>\n",
       "  <tbody>\n",
       "    <tr>\n",
       "      <th>0</th>\n",
       "      <td>5.1</td>\n",
       "      <td>3.5</td>\n",
       "      <td>1.4</td>\n",
       "      <td>0.2</td>\n",
       "      <td>0</td>\n",
       "    </tr>\n",
       "    <tr>\n",
       "      <th>1</th>\n",
       "      <td>4.9</td>\n",
       "      <td>3.0</td>\n",
       "      <td>1.4</td>\n",
       "      <td>0.2</td>\n",
       "      <td>0</td>\n",
       "    </tr>\n",
       "    <tr>\n",
       "      <th>2</th>\n",
       "      <td>4.7</td>\n",
       "      <td>3.2</td>\n",
       "      <td>1.3</td>\n",
       "      <td>0.2</td>\n",
       "      <td>0</td>\n",
       "    </tr>\n",
       "    <tr>\n",
       "      <th>3</th>\n",
       "      <td>4.6</td>\n",
       "      <td>3.1</td>\n",
       "      <td>1.5</td>\n",
       "      <td>0.2</td>\n",
       "      <td>0</td>\n",
       "    </tr>\n",
       "    <tr>\n",
       "      <th>4</th>\n",
       "      <td>5.0</td>\n",
       "      <td>3.6</td>\n",
       "      <td>1.4</td>\n",
       "      <td>0.2</td>\n",
       "      <td>0</td>\n",
       "    </tr>\n",
       "    <tr>\n",
       "      <th>...</th>\n",
       "      <td>...</td>\n",
       "      <td>...</td>\n",
       "      <td>...</td>\n",
       "      <td>...</td>\n",
       "      <td>...</td>\n",
       "    </tr>\n",
       "    <tr>\n",
       "      <th>145</th>\n",
       "      <td>6.7</td>\n",
       "      <td>3.0</td>\n",
       "      <td>5.2</td>\n",
       "      <td>2.3</td>\n",
       "      <td>2</td>\n",
       "    </tr>\n",
       "    <tr>\n",
       "      <th>146</th>\n",
       "      <td>6.3</td>\n",
       "      <td>2.5</td>\n",
       "      <td>5.0</td>\n",
       "      <td>1.9</td>\n",
       "      <td>2</td>\n",
       "    </tr>\n",
       "    <tr>\n",
       "      <th>147</th>\n",
       "      <td>6.5</td>\n",
       "      <td>3.0</td>\n",
       "      <td>5.2</td>\n",
       "      <td>2.0</td>\n",
       "      <td>2</td>\n",
       "    </tr>\n",
       "    <tr>\n",
       "      <th>148</th>\n",
       "      <td>6.2</td>\n",
       "      <td>3.4</td>\n",
       "      <td>5.4</td>\n",
       "      <td>2.3</td>\n",
       "      <td>2</td>\n",
       "    </tr>\n",
       "    <tr>\n",
       "      <th>149</th>\n",
       "      <td>5.9</td>\n",
       "      <td>3.0</td>\n",
       "      <td>5.1</td>\n",
       "      <td>1.8</td>\n",
       "      <td>2</td>\n",
       "    </tr>\n",
       "  </tbody>\n",
       "</table>\n",
       "<p>150 rows × 5 columns</p>\n",
       "</div>"
      ],
      "text/plain": [
       "     sepal_length  sepal_width  petal_length  petal_width  species\n",
       "0             5.1          3.5           1.4          0.2        0\n",
       "1             4.9          3.0           1.4          0.2        0\n",
       "2             4.7          3.2           1.3          0.2        0\n",
       "3             4.6          3.1           1.5          0.2        0\n",
       "4             5.0          3.6           1.4          0.2        0\n",
       "..            ...          ...           ...          ...      ...\n",
       "145           6.7          3.0           5.2          2.3        2\n",
       "146           6.3          2.5           5.0          1.9        2\n",
       "147           6.5          3.0           5.2          2.0        2\n",
       "148           6.2          3.4           5.4          2.3        2\n",
       "149           5.9          3.0           5.1          1.8        2\n",
       "\n",
       "[150 rows x 5 columns]"
      ]
     },
     "execution_count": 8,
     "metadata": {},
     "output_type": "execute_result"
    }
   ],
   "source": [
    "my_df['species'] = my_df['species'].apply(label_to_number)\n",
    "my_df"
   ]
  },
  {
   "cell_type": "markdown",
   "metadata": {},
   "source": [
    "### Convert to x and y and to numpy arrays "
   ]
  },
  {
   "cell_type": "code",
   "execution_count": 9,
   "metadata": {},
   "outputs": [],
   "source": [
    "X = my_df.drop('species', axis=1).values # get the input features\n",
    "y = my_df['species'].values # get the target labels"
   ]
  },
  {
   "cell_type": "markdown",
   "metadata": {},
   "source": [
    "## Create Train / Test Split"
   ]
  },
  {
   "cell_type": "code",
   "execution_count": 10,
   "metadata": {},
   "outputs": [],
   "source": [
    "from sklearn.model_selection import train_test_split\n",
    "X_train, X_test, y_train, y_test = train_test_split(X, y, test_size=0.2, random_state=32)"
   ]
  },
  {
   "cell_type": "code",
   "execution_count": 11,
   "metadata": {},
   "outputs": [],
   "source": [
    "# This part will convert the input features and target labels to tensors\n",
    "X_train = torch.FloatTensor(X_train) # convert the input features to a tensor\n",
    "X_test = torch.FloatTensor(X_test) # convert the input features to a tensor (for testing)\n",
    "y_train = torch.FloatTensor(y_train) # convert the target labels to a tensor\n",
    "y_test = torch.FloatTensor(y_test) # convert the target labels to a tensor (for testing)"
   ]
  },
  {
   "cell_type": "code",
   "execution_count": 12,
   "metadata": {},
   "outputs": [],
   "source": [
    "# Set the criterion of model to measure the error, how far off the model is from the target\n",
    "criterion = nn.CrossEntropyLoss() # use cross entropy loss for classification problems\n",
    "\n",
    "# Choose Optimizer\n",
    "# lr = learning rate, the size of the step the optimizer will take to update the model's weights\n",
    "# if error is not decreasing, or fluctuating try a smaller learning rate\n",
    "optimizer = torch.optim.Adam(model.parameters(), lr=0.001) # use the Adam optimizer to update the model's weights"
   ]
  },
  {
   "cell_type": "markdown",
   "metadata": {},
   "source": [
    "### Train Model"
   ]
  },
  {
   "cell_type": "code",
   "execution_count": 13,
   "metadata": {},
   "outputs": [
    {
     "name": "stdout",
     "output_type": "stream",
     "text": [
      "Epoch: 0 Loss: 1.169895887374878\n",
      "Epoch: 1000 Loss: 0.06141107156872749\n",
      "Epoch: 2000 Loss: 0.04901633411645889\n",
      "Epoch: 3000 Loss: 0.04522395506501198\n",
      "Epoch: 4000 Loss: 0.04477681964635849\n",
      "Epoch: 5000 Loss: 0.044738106429576874\n",
      "Epoch: 6000 Loss: 0.04472952336072922\n",
      "Epoch: 7000 Loss: 0.04472138360142708\n",
      "Epoch: 8000 Loss: 0.04471846669912338\n",
      "Epoch: 9000 Loss: 0.044716719537973404\n",
      "Epoch: 10000 Loss: 0.04471554979681969\n"
     ]
    }
   ],
   "source": [
    "epochs = 10000 # number of times the model will see the entire dataset\n",
    "losses = [] # store the loss values\n",
    "print_every_n = 0.1 * epochs # print the loss every n epochs\n",
    "\n",
    "for i in range(epochs):\n",
    "    y_pred = model.forward(X_train) # get predicted values\n",
    "    loss = criterion(y_pred, y_train.long()) # calculate the loss\n",
    "    losses.append(loss.detach().numpy()) # store the loss, detach() removes the loss from the computational graph\n",
    "    optimizer.zero_grad() # set the gradients to zero\n",
    "    loss.backward() # backpropagate the loss, take the error rate of forward propagation and feed it back to the model\n",
    "    optimizer.step() # update the model's weights\n",
    "    if i % print_every_n == 0:\n",
    "        print(f'Epoch: {i} Loss: {loss}')\n",
    "    \n",
    "print(f'Epoch: {i + 1} Loss: {loss}')"
   ]
  },
  {
   "cell_type": "code",
   "execution_count": 14,
   "metadata": {},
   "outputs": [
    {
     "data": {
      "text/plain": [
       "Text(0.5, 0, 'epoch')"
      ]
     },
     "execution_count": 14,
     "metadata": {},
     "output_type": "execute_result"
    },
    {
     "data": {
      "image/png": "[encoded data removed]",
      "text/plain": [
       "<Figure size 640x480 with 1 Axes>"
      ]
     },
     "metadata": {},
     "output_type": "display_data"
    }
   ],
   "source": [
    "# Graph our losses\n",
    "plt.plot(range(epochs), losses) # plot the loss values\n",
    "plt.ylabel('Loss') # label the y-axis\n",
    "plt.xlabel('epoch') # label the x-axis"
   ]
  },
  {
   "cell_type": "markdown",
   "metadata": {},
   "source": [
    "### Evaluate model using test data set, Loss on evaluation run should be close to the loss evaluated from training run"
   ]
  },
  {
   "cell_type": "code",
   "execution_count": 15,
   "metadata": {},
   "outputs": [
    {
     "name": "stdout",
     "output_type": "stream",
     "text": [
      "Loss: 0.023329349234700203\n"
     ]
    }
   ],
   "source": [
    "# Evaluate Model on Test Data Set (validate model on test set)\n",
    "with torch.no_grad(): # turn off gradient tracking (back propagation) for validation\n",
    "    y_eval = model.forward(X_test) # X_test are features from our test set, y_eval will be predictions\n",
    "    loss = criterion(y_eval, y_test.long()) # calculate the loss\n",
    "    print(f'Loss: {loss}')"
   ]
  },
  {
   "cell_type": "code",
   "execution_count": 16,
   "metadata": {},
   "outputs": [
    {
     "name": "stdout",
     "output_type": "stream",
     "text": [
      "1. tensor([-5.9588, 11.2200,  2.5559]) 1.0\n",
      "2. tensor([ 12.5032,  -2.5106, -15.1526]) 0.0\n",
      "3. tensor([ 10.9039,  -1.8266, -13.3829]) 0.0\n",
      "4. tensor([-6.8558, 10.3951,  3.8116]) 1.0\n",
      "5. tensor([-12.8315,   7.7980,  11.2205]) 2.0\n",
      "6. tensor([-15.5441,   6.1930,  14.7251]) 2.0\n",
      "7. tensor([  9.7853,  -0.6873, -12.3981]) 0.0\n",
      "8. tensor([ 11.5337,  -2.3133, -13.9769]) 0.0\n",
      "9. tensor([-5.5615, 10.6524,  2.3101]) 1.0\n",
      "10. tensor([ 11.7974,  -2.3670, -14.2967]) 0.0\n",
      "11. tensor([-7.7675, 11.4011,  4.4713]) 1.0\n",
      "12. tensor([-15.3908,   4.3687,  15.1519]) 2.0\n",
      "13. tensor([-2.9147, 11.8593, -1.1534]) 1.0\n",
      "14. tensor([-2.6121, 12.4105, -1.6799]) 1.0\n",
      "15. tensor([-13.4709,   6.3802,  12.3823]) 2.0\n",
      "16. tensor([-14.2928,   5.2797,  13.5932]) 2.0\n",
      "17. tensor([-6.6428, 10.1114,  3.6730]) 1.0\n",
      "18. tensor([-11.8322,   7.7504,  10.1311]) 2.0\n",
      "19. tensor([-3.0784, 12.5743, -1.1637]) 1.0\n",
      "20. tensor([ 12.5421,  -2.5185, -15.1998]) 0.0\n",
      "21. tensor([ 11.1438,  -1.8796, -13.6380]) 0.0\n",
      "22. tensor([-17.5528,   5.5557,  17.1316]) 2.0\n",
      "23. tensor([-10.1984,   8.0032,   8.2624]) 2.0\n",
      "24. tensor([ 11.4468,  -2.2956, -13.8715]) 0.0\n",
      "25. tensor([ 11.5007,  -2.3066, -13.9369]) 0.0\n",
      "26. tensor([-3.0110, 12.6254, -1.2270]) 1.0\n",
      "27. tensor([ 12.5919,  -2.5287, -15.2601]) 0.0\n",
      "28. tensor([-17.4704,   3.3891,  17.7123]) 2.0\n",
      "29. tensor([ 12.0938,  -2.4273, -14.6561]) 0.0\n",
      "30. tensor([ 11.8696,  -2.3817, -14.3842]) 0.0\n",
      "30 out of 30 = 100.0% correct\n"
     ]
    }
   ],
   "source": [
    "# Evaluate model correctness\n",
    "correct = 0\n",
    "with torch.no_grad():\n",
    "    for i,data in enumerate(X_test):\n",
    "        y_val = model.forward(data)\n",
    "\n",
    "        # Will tell us what type of flow class our network think it is\n",
    "        print(f'{i+1}. {str(y_val)} {y_test[i]}')\n",
    "\n",
    "        # Correct or not\n",
    "        if y_val.argmax().item() == y_test[i]:\n",
    "            correct += 1\n",
    "        else :\n",
    "            print(f'Incorrect: {y_val.argmax().item()} != {y_test[i]}')\n",
    "\n",
    "print(f'{correct} out of {len(y_test)} = {100*correct/len(y_test)}% correct')"
   ]
  },
  {
   "cell_type": "code",
   "execution_count": 17,
   "metadata": {},
   "outputs": [],
   "source": [
    "# Save the model\n",
    "torch.save(model.state_dict(), output_model_name)"
   ]
  },
  {
   "cell_type": "markdown",
   "metadata": {},
   "source": [
    "### Visualize the neural network"
   ]
  },
  {
   "cell_type": "code",
   "execution_count": 18,
   "metadata": {},
   "outputs": [
    {
     "name": "stdout",
     "output_type": "stream",
     "text": [
      "tensor([[5.7000, 2.8000, 4.5000, 1.3000],\n",
      "        [4.6000, 3.6000, 1.0000, 0.2000],\n",
      "        [5.0000, 3.4000, 1.6000, 0.4000],\n",
      "        [6.3000, 3.3000, 4.7000, 1.6000],\n",
      "        [6.1000, 2.6000, 5.6000, 1.4000],\n",
      "        [7.9000, 3.8000, 6.4000, 2.0000],\n",
      "        [5.1000, 3.3000, 1.7000, 0.5000],\n",
      "        [4.9000, 3.1000, 1.5000, 0.1000],\n",
      "        [6.0000, 3.4000, 4.5000, 1.6000],\n",
      "        [5.1000, 3.7000, 1.5000, 0.4000],\n",
      "        [6.8000, 2.8000, 4.8000, 1.4000],\n",
      "        [6.4000, 3.2000, 5.3000, 2.3000],\n",
      "        [5.0000, 2.0000, 3.5000, 1.0000],\n",
      "        [5.8000, 2.7000, 4.1000, 1.0000],\n",
      "        [6.5000, 3.0000, 5.2000, 2.0000],\n",
      "        [5.7000, 2.5000, 5.0000, 2.0000],\n",
      "        [5.6000, 3.0000, 4.5000, 1.5000],\n",
      "        [6.3000, 2.7000, 4.9000, 1.8000],\n",
      "        [5.6000, 2.5000, 3.9000, 1.1000],\n",
      "        [5.4000, 3.7000, 1.5000, 0.2000],\n",
      "        [5.1000, 3.8000, 1.9000, 0.4000],\n",
      "        [7.3000, 2.9000, 6.3000, 1.8000],\n",
      "        [6.0000, 3.0000, 4.8000, 1.8000],\n",
      "        [4.8000, 3.0000, 1.4000, 0.1000],\n",
      "        [4.3000, 3.0000, 1.1000, 0.1000],\n",
      "        [5.7000, 3.0000, 4.2000, 1.2000],\n",
      "        [5.4000, 3.9000, 1.3000, 0.4000],\n",
      "        [6.7000, 3.1000, 5.6000, 2.4000],\n",
      "        [5.2000, 3.5000, 1.5000, 0.2000],\n",
      "        [5.1000, 3.4000, 1.5000, 0.2000]])\n",
      "<class 'torch.Tensor'>\n"
     ]
    }
   ],
   "source": [
    "from torchviz import make_dot\n",
    "\n",
    "# create some sample input data\n",
    "x = X_test[0]\n",
    "\n",
    "# generate predictions for the sample data\n",
    "y = model(x)\n",
    "\n",
    "# generate a model architecture visualization\n",
    "z = make_dot(y.mean(),\n",
    "         params=dict(model.named_parameters()),\n",
    "         show_attrs=True,\n",
    "         show_saved=True).render(visualization_name, format=visualization_format)"
   ]
  },
  {
   "cell_type": "code",
   "execution_count": 19,
   "metadata": {},
   "outputs": [
    {
     "data": {
      "text/markdown": [
       "![title](iris_model_assets/iris_model_torchviz.png)"
      ],
      "text/plain": [
       "<IPython.core.display.Markdown object>"
      ]
     },
     "execution_count": 19,
     "metadata": {},
     "output_type": "execute_result"
    }
   ],
   "source": [
    "from IPython.display import Markdown as md\n",
    "md_text = f'![title]({model_name}_assets/{model_name}_torchviz.png)'\n",
    "md(md_text)\n",
    "# ![title](iris_model_assets/iris_model_torchviz.png)"
   ]
  }
 ],
 "metadata": {
  "kernelspec": {
   "display_name": ".venv",
   "language": "python",
   "name": "python3"
  },
  "language_info": {
   "codemirror_mode": {
    "name": "ipython",
    "version": 3
   },
   "file_extension": ".py",
   "mimetype": "text/x-python",
   "name": "python",
   "nbconvert_exporter": "python",
   "pygments_lexer": "ipython3",
   "version": "3.12.3"
  }
 },
 "nbformat": 4,
 "nbformat_minor": 2
}
